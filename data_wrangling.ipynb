{
 "cells": [
  {
   "cell_type": "code",
   "execution_count": 1,
   "metadata": {
    "collapsed": true
   },
   "outputs": [],
   "source": [
    "with open('data/snli_1.0/snli_1.0_train.txt') as f:\n",
    "    train_data = f.read().split('\\n')\n",
    "    del train_data[0] #first row is the column headings, which we don't want\n",
    "    \n",
    "with open('data/snli_1.0/snli_1.0_dev.txt') as f:\n",
    "    dev_data = f.read().split('\\n')\n",
    "    del dev_data[0]\n",
    "    \n",
    "with open('data/snli_1.0/snli_1.0_test.txt') as f:\n",
    "    test_data = f.read().split('\\n')\n",
    "    del test_data[0]"
   ]
  },
  {
   "cell_type": "code",
   "execution_count": 2,
   "metadata": {},
   "outputs": [],
   "source": [
    "with open('data/processed/train.txt', 'w') as f:\n",
    "    for t in train_data:\n",
    "        try:\n",
    "            label, _, _, _, _, s1, s2, *_ = t.split('\\t')\n",
    "            if label == '-': #a label of '-' means no agreement on the class, therefore we skip it\n",
    "                continue\n",
    "            f.write('{}\\t{}\\t{}\\n'.format(s1, s2, label))\n",
    "        except ValueError: #get error from the blank final line of the .txt file\n",
    "            pass\n",
    "        \n",
    "with open('data/processed/dev.txt', 'w') as f:\n",
    "    for t in dev_data:\n",
    "        try:\n",
    "            label, _, _, _, _, s1, s2, *_ = t.split('\\t')\n",
    "            if label == '-':\n",
    "                continue\n",
    "            f.write('{}\\t{}\\t{}\\n'.format(s1, s2, label))\n",
    "        except ValueError:\n",
    "            pass\n",
    "        \n",
    "with open('data/processed/test.txt', 'w') as f:\n",
    "    for t in test_data:\n",
    "        try:\n",
    "            label, _, _, _, _, s1, s2, *_ = t.split('\\t')\n",
    "            if label == '-':\n",
    "                continue\n",
    "            f.write('{}\\t{}\\t{}\\n'.format(s1, s2, label))\n",
    "        except ValueError:\n",
    "            pass"
   ]
  },
  {
   "cell_type": "code",
   "execution_count": null,
   "metadata": {
    "collapsed": true
   },
   "outputs": [],
   "source": []
  },
  {
   "cell_type": "code",
   "execution_count": null,
   "metadata": {
    "collapsed": true
   },
   "outputs": [],
   "source": []
  },
  {
   "cell_type": "code",
   "execution_count": null,
   "metadata": {
    "collapsed": true
   },
   "outputs": [],
   "source": []
  }
 ],
 "metadata": {
  "kernelspec": {
   "display_name": "Python 3",
   "language": "python",
   "name": "python3"
  },
  "language_info": {
   "codemirror_mode": {
    "name": "ipython",
    "version": 3
   },
   "file_extension": ".py",
   "mimetype": "text/x-python",
   "name": "python",
   "nbconvert_exporter": "python",
   "pygments_lexer": "ipython3",
   "version": "3.6.2"
  }
 },
 "nbformat": 4,
 "nbformat_minor": 2
}
