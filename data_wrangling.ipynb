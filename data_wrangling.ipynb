{
 "cells": [
  {
   "cell_type": "code",
   "execution_count": 1,
   "metadata": {
    "collapsed": true
   },
   "outputs": [],
   "source": [
    "with open('data/snli_1.0/snli_1.0_train.txt') as f:\n",
    "    train_data = f.read().split('\\n')\n",
    "    del train_data[0] #first row is the column headings, which we don't want\n",
    "    \n",
    "with open('data/snli_1.0/snli_1.0_dev.txt') as f:\n",
    "    dev_data = f.read().split('\\n')\n",
    "    del dev_data[0]\n",
    "    \n",
    "with open('data/snli_1.0/snli_1.0_test.txt') as f:\n",
    "    test_data = f.read().split('\\n')\n",
    "    del test_data[0]"
   ]
  },
  {
   "cell_type": "code",
   "execution_count": 2,
   "metadata": {},
   "outputs": [
    {
     "name": "stdout",
     "output_type": "stream",
     "text": [
      "\n",
      "\u001b[93m    Warning: no model found for 'en'\u001b[0m\n",
      "\n",
      "    Only loading the 'en' tokenizer.\n",
      "\n"
     ]
    }
   ],
   "source": [
    "import spacy\n",
    "\n",
    "spacy_en = spacy.load('en')\n",
    "\n",
    "def tokenizer(text): # create a tokenizer function\n",
    "    return [tok.text for tok in spacy_en.tokenizer(text)]"
   ]
  },
  {
   "cell_type": "code",
   "execution_count": 3,
   "metadata": {
    "collapsed": true
   },
   "outputs": [],
   "source": [
    "import numpy as np\n",
    "\n",
    "char_lengths = np.zeros(len(train_data)*2-2) #*2 as we have two sentences per data point\n",
    "word_lengths = np.zeros(len(train_data)*2-2)\n",
    "\n",
    "i=0\n",
    "\n",
    "for t in train_data:\n",
    "    try:\n",
    "        label, _, _, _, _, s1, s2, *_ = t.split('\\t')\n",
    "        char_lengths[i] = len(s1)\n",
    "        char_lengths[i+1] = len(s2)\n",
    "        word_lengths[i] = len(tokenizer(s1))\n",
    "        word_lengths[i+1] = len(tokenizer(s2))\n",
    "        i += 2\n",
    "    except ValueError:\n",
    "        continue"
   ]
  },
  {
   "cell_type": "code",
   "execution_count": 4,
   "metadata": {},
   "outputs": [
    {
     "name": "stdout",
     "output_type": "stream",
     "text": [
      "402.0\n",
      "1.0\n",
      "51.8783481656\n",
      "27.6619015887\n"
     ]
    },
    {
     "data": {
      "image/png": "[encoded data removed]",
      "text/plain": [
       "<matplotlib.figure.Figure at 0x7f09db790e80>"
      ]
     },
     "metadata": {},
     "output_type": "display_data"
    }
   ],
   "source": [
    "import matplotlib.pyplot as plt\n",
    "\n",
    "print(np.max(char_lengths))\n",
    "print(np.min(char_lengths))\n",
    "print(np.mean(char_lengths))\n",
    "print(np.std(char_lengths))\n",
    "\n",
    "plt.hist(char_lengths, 50)\n",
    "plt.title(\"Character lengths\")\n",
    "plt.show()"
   ]
  },
  {
   "cell_type": "code",
   "execution_count": 5,
   "metadata": {},
   "outputs": [
    {
     "name": "stdout",
     "output_type": "stream",
     "text": [
      "82.0\n",
      "1.0\n",
      "11.2103209658\n",
      "5.68451243562\n"
     ]
    },
    {
     "data": {
      "image/png": "[encoded data removed]",
      "text/plain": [
       "<matplotlib.figure.Figure at 0x7f09d5d62a58>"
      ]
     },
     "metadata": {},
     "output_type": "display_data"
    },
    {
     "data": {
      "text/plain": [
       "'78.0\\n1.0\\n10.1355916183\\n5.30021206882'"
      ]
     },
     "execution_count": 5,
     "metadata": {},
     "output_type": "execute_result"
    }
   ],
   "source": [
    "print(np.max(word_lengths))\n",
    "print(np.min(word_lengths))\n",
    "print(np.mean(word_lengths))\n",
    "print(np.std(word_lengths))\n",
    "\n",
    "plt.hist(word_lengths, 50)\n",
    "plt.title(\"Word lengths\")\n",
    "plt.show()\n",
    "\n",
    "\"\"\"78.0\n",
    "1.0\n",
    "10.1355916183\n",
    "5.30021206882\"\"\""
   ]
  },
  {
   "cell_type": "code",
   "execution_count": 6,
   "metadata": {
    "collapsed": true
   },
   "outputs": [],
   "source": [
    "with open('data/processed/train.txt', 'w') as f:\n",
    "    for t in train_data:\n",
    "        try:\n",
    "            label, _, _, _, _, s1, s2, *_ = t.split('\\t')\n",
    "            if label == '-': #a label of '-' means no agreement on the class, therefore we skip it\n",
    "                continue\n",
    "            f.write('{}\\t{}\\t{}\\n'.format(s1, s2, label))\n",
    "        except ValueError: #get error from the blank final line of the .txt file\n",
    "            pass\n",
    "        \n",
    "with open('data/processed/dev.txt', 'w') as f:\n",
    "    for t in dev_data:\n",
    "        try:\n",
    "            label, _, _, _, _, s1, s2, *_ = t.split('\\t')\n",
    "            if label == '-':\n",
    "                continue\n",
    "            f.write('{}\\t{}\\t{}\\n'.format(s1, s2, label))\n",
    "        except ValueError:\n",
    "            pass\n",
    "        \n",
    "with open('data/processed/test.txt', 'w') as f:\n",
    "    for t in test_data:\n",
    "        try:\n",
    "            label, _, _, _, _, s1, s2, *_ = t.split('\\t')\n",
    "            if label == '-':\n",
    "                continue\n",
    "            f.write('{}\\t{}\\t{}\\n'.format(s1, s2, label))\n",
    "        except ValueError:\n",
    "            pass"
   ]
  },
  {
   "cell_type": "code",
   "execution_count": 7,
   "metadata": {
    "collapsed": true
   },
   "outputs": [],
   "source": [
    "with open('data/processed/train_40.txt', 'w') as f:\n",
    "    for t in train_data:\n",
    "        try:\n",
    "            label, _, _, _, _, s1, s2, *_ = t.split('\\t')\n",
    "            if label == '-' or len(tokenizer(s1)) > 40 or len(tokenizer(s2)) > 40: #a label of '-' means no agreement on the class, therefore we skip it\n",
    "                continue\n",
    "            f.write('{}\\t{}\\t{}\\n'.format(s1, s2, label))\n",
    "        except ValueError: #get error from the blank final line of the .txt file\n",
    "            pass\n",
    "        \n",
    "with open('data/processed/dev_40.txt', 'w') as f:\n",
    "    for t in dev_data:\n",
    "        try:\n",
    "            label, _, _, _, _, s1, s2, *_ = t.split('\\t')\n",
    "            if label == '-' or len(tokenizer(s1)) > 40 or len(tokenizer(s2)) > 40:\n",
    "                continue\n",
    "            f.write('{}\\t{}\\t{}\\n'.format(s1, s2, label))\n",
    "        except ValueError:\n",
    "            pass\n",
    "        \n",
    "with open('data/processed/test_40.txt', 'w') as f:\n",
    "    for t in test_data:\n",
    "        try:\n",
    "            label, _, _, _, _, s1, s2, *_ = t.split('\\t')\n",
    "            if label == '-' or len(tokenizer(s1)) > 40 or len(tokenizer(s2)) > 40:\n",
    "                continue\n",
    "            f.write('{}\\t{}\\t{}\\n'.format(s1, s2, label))\n",
    "        except ValueError:\n",
    "            pass"
   ]
  },
  {
   "cell_type": "code",
   "execution_count": null,
   "metadata": {
    "collapsed": true
   },
   "outputs": [],
   "source": []
  },
  {
   "cell_type": "code",
   "execution_count": null,
   "metadata": {},
   "outputs": [],
   "source": []
  },
  {
   "cell_type": "code",
   "execution_count": null,
   "metadata": {},
   "outputs": [],
   "source": []
  },
  {
   "cell_type": "code",
   "execution_count": null,
   "metadata": {
    "collapsed": true
   },
   "outputs": [],
   "source": []
  }
 ],
 "metadata": {
  "kernelspec": {
   "display_name": "Python 3",
   "language": "python",
   "name": "python3"
  },
  "language_info": {
   "codemirror_mode": {
    "name": "ipython",
    "version": 3
   },
   "file_extension": ".py",
   "mimetype": "text/x-python",
   "name": "python",
   "nbconvert_exporter": "python",
   "pygments_lexer": "ipython3",
   "version": "3.6.2"
  }
 },
 "nbformat": 4,
 "nbformat_minor": 2
}
