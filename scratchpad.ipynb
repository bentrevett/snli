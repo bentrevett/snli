{
 "cells": [
  {
   "cell_type": "markdown",
   "metadata": {},
   "source": [
    "http://anie.me/On-Torchtext/"
   ]
  },
  {
   "cell_type": "code",
   "execution_count": 1,
   "metadata": {
    "collapsed": true
   },
   "outputs": [],
   "source": [
    "from torchtext import data"
   ]
  },
  {
   "cell_type": "code",
   "execution_count": 2,
   "metadata": {
    "collapsed": true
   },
   "outputs": [],
   "source": [
    "class Arguments():\n",
    "    def __init__(self, batch_size):\n",
    "        self.batch_size = batch_size\n",
    "        \n",
    "args = Arguments(32)"
   ]
  },
  {
   "cell_type": "code",
   "execution_count": 3,
   "metadata": {},
   "outputs": [
    {
     "name": "stdout",
     "output_type": "stream",
     "text": [
      "\n",
      "\u001b[93m    Warning: no model found for 'en'\u001b[0m\n",
      "\n",
      "    Only loading the 'en' tokenizer.\n",
      "\n"
     ]
    }
   ],
   "source": [
    "TEXT = data.Field(batch_first=True,tokenize=\"spacy\") #by default tokenize simply splits on spaces, this uses the spaCy tokenizer, but must be installed via `conda install spacy`\n",
    "LABELS = data.Field(batch_first=True,pad_token=None, unk_token=None) #don't want the <pad> or <unk> tokens in the labels"
   ]
  },
  {
   "cell_type": "code",
   "execution_count": 4,
   "metadata": {
    "collapsed": true
   },
   "outputs": [],
   "source": [
    "train, dev, test = data.TabularDataset.splits(\n",
    "    path='data/processed/', train='train.txt',\n",
    "    validation='dev.txt', test='test.txt', format='tsv',\n",
    "    fields=[('sentence1', TEXT), ('sentence2', TEXT), ('labels', LABELS)])"
   ]
  },
  {
   "cell_type": "code",
   "execution_count": 5,
   "metadata": {},
   "outputs": [
    {
     "name": "stdout",
     "output_type": "stream",
     "text": [
      "{'sentence1': <torchtext.data.field.Field object at 0x7fdc29c67780>, 'sentence2': <torchtext.data.field.Field object at 0x7fdc29c67780>, 'labels': <torchtext.data.field.Field object at 0x7fdc2903dc88>}\n"
     ]
    }
   ],
   "source": [
    "print(train.fields)"
   ]
  },
  {
   "cell_type": "code",
   "execution_count": 6,
   "metadata": {},
   "outputs": [
    {
     "name": "stdout",
     "output_type": "stream",
     "text": [
      "549367\n"
     ]
    }
   ],
   "source": [
    "print(len(train))"
   ]
  },
  {
   "cell_type": "code",
   "execution_count": 7,
   "metadata": {},
   "outputs": [
    {
     "name": "stdout",
     "output_type": "stream",
     "text": [
      "{'sentence1': ['A', 'person', 'on', 'a', 'horse', 'jumps', 'over', 'a', 'broken', 'down', 'airplane', '.'], 'sentence2': ['A', 'person', 'is', 'training', 'his', 'horse', 'for', 'a', 'competition', '.'], 'labels': ['neutral']}\n"
     ]
    }
   ],
   "source": [
    "print(vars(train[0]))"
   ]
  },
  {
   "cell_type": "code",
   "execution_count": 8,
   "metadata": {},
   "outputs": [],
   "source": [
    "train_iter, dev_iter, test_iter = data.BucketIterator.splits((train, dev, test), #the dataset object to load data from\n",
    "                                                            batch_size = args.batch_size, \n",
    "                                                            sort_key=lambda x: len(x.sentence1), #how should it organise the buckets?\n",
    "                                                            device=-1) #-1 implies using the CPU"
   ]
  },
  {
   "cell_type": "code",
   "execution_count": 9,
   "metadata": {
    "collapsed": true
   },
   "outputs": [],
   "source": [
    "TEXT.build_vocab(train.sentence1)\n",
    "TEXT.build_vocab(train.sentence2)\n",
    "LABELS.build_vocab(train.labels)"
   ]
  },
  {
   "cell_type": "code",
   "execution_count": 10,
   "metadata": {},
   "outputs": [
    {
     "name": "stdout",
     "output_type": "stream",
     "text": [
      "35080\n"
     ]
    }
   ],
   "source": [
    "print(len(TEXT.vocab))"
   ]
  },
  {
   "cell_type": "code",
   "execution_count": 11,
   "metadata": {},
   "outputs": [
    {
     "name": "stdout",
     "output_type": "stream",
     "text": [
      "['entailment', 'contradiction', 'neutral']\n"
     ]
    }
   ],
   "source": [
    "print(LABELS.vocab.itos)"
   ]
  },
  {
   "cell_type": "code",
   "execution_count": 12,
   "metadata": {},
   "outputs": [
    {
     "name": "stdout",
     "output_type": "stream",
     "text": [
      "Variable containing:\n",
      "\n",
      "Columns 0 to 10 \n",
      "   374     19    367    146   3165      3   1348     10     34    540    646\n",
      "     5     94     13     15    191    111     14      3    982   4387     47\n",
      "     7    956     98   4481      6   1166     11     32    311    370   2803\n",
      "  6416     24     17     37     10   1928    458     17   2539    344    171\n",
      "  1026     10     72    388    127     10     41     50     11   1949     19\n",
      "     5     25     10    286     17     65    104   1363      4    832    100\n",
      "  9568     13      3      9     53      3    122     47   2251     10      3\n",
      "     3     98     29      3   1909     70   1236      4    254     11      3\n",
      "    43     24    108     10      3    807    929     17      6     82     11\n",
      "     5     12     10      3    766    322   1413     42    100      6     50\n",
      "     5     94     13     15     19      3    348    279    295     47     19\n",
      "   239     40     47    444      3    855     11   2007     46   3374     20\n",
      "    18    242     97   2080     19   1140     47    108     29      3     65\n",
      "     5     38   2041   3310     11      3    159    198     29      3    367\n",
      "   785     38    373      8     99     23      3    233     47    810    561\n",
      "   374     10    253     17    145    787    241   1610     14      3      9\n",
      "    59    294     12      4     40     11      3   2561     46    250      8\n",
      "    18   8226     47    108     10    164     55     47      6     82     10\n",
      "    18     37    189     10    755     48      3     36     10      6     46\n",
      "     5      9     10      3     68     58      4     88      3    451     11\n",
      "     5     30     10      3     68     17     55     58     44     39    560\n",
      "     5   1812     29     55      4    105     14      3      9    257      4\n",
      "     5   6182     25      4     10      3    546     17      4    185     20\n",
      "     5     12     29     68   1145     97   2949    735     11      3    193\n",
      "     5     12   1607      3    855     17    184     16      3   1032     10\n",
      "     7    367     97    521     51   1170     16      6    187     48    108\n",
      "     5   2244   1410     10      3    145     17     55   2847    234     20\n",
      "   346     37     47    164     19     39    146     60     47      8    125\n",
      "     5   1834     13    833     17     55    959     19      3     25     31\n",
      "     5  12230     97    649     26     29      3    145   1711     17      3\n",
      "    18     56     86   1641     97     13     97   1019     19      3   3503\n",
      "     5     38     12    555     10      3   3657  30292  18898      4    892\n",
      "\n",
      "Columns 11 to 17 \n",
      "    11      3    398     46     16   4386      2\n",
      "  4297    110     11    673    110    124      2\n",
      "    32   1392    100      6  11425    131      2\n",
      "  3528    326      3   6040    469    709      2\n",
      "   635     13     50     10      6    602      2\n",
      "    50     16      3     62    673    214      2\n",
      "    72    883     47     14     20   1590      2\n",
      "   215     48     32    148    103    279     32\n",
      "     6    558      8    545      3    288      2\n",
      "    13      3   1104     10      6    476      2\n",
      "    39    204   2263     10      6    213      2\n",
      "  1283     48   1137     45      3   6185      2\n",
      "    17      6     82      3     55    455      2\n",
      "   241     17    456    649    453   6277      2\n",
      "   656     17    515     14    189     42      2\n",
      "    10    145    205      3     72    841      2\n",
      "   608     15     10      6    602    603      2\n",
      "   164     68     47   3140     14    529      2\n",
      "   428      6   1009     13      6    187      2\n",
      "   108     13      6   1023     64    276      2\n",
      "  2345     17    184     16      6    187      2\n",
      "    29      3     68     58     17   2921      2\n",
      "   204     14    191     11   1553   3781      2\n",
      "    48    439     14    123     19   1252      2\n",
      "     6    359     13      3    837    172      2\n",
      "    13    295   1198     20   1795     69      2\n",
      "   327     73     42      6    327    172      2\n",
      "    60     17     10     75     13   7939      2\n",
      "    16      6   1328     13      6   1834      2\n",
      "   499   2186      4   1583    317    635      2\n",
      "    47     10   2226     97    408     50      2\n",
      "  2743     57      3    494     13   7855      2\n",
      "[torch.LongTensor of size 32x18]\n",
      "\n",
      "Variable containing:\n",
      "\n",
      "Columns 0 to 10 \n",
      "     5     12      4    962     69     13      6   1348      2      1      1\n",
      "     5     33     13     15      8   1158      3    225    278      2      1\n",
      "     5     12      4   1239      2      1      1      1      1      1      1\n",
      "   292     36    109     16    112    207      2      1      1      1      1\n",
      "   160      4    115     14    406      1      1      1      1      1      1\n",
      "     5     25    815    100      6     50      2      1      1      1      1\n",
      "     5      9      4     53      3    122     14     20   1590      2      1\n",
      "    27      4     34  31577      2      1      1      1      1      1      1\n",
      "     5     77    246    349   1244    442      1      1      1      1      1\n",
      "     5     12      4     31     10    603     10      3    398    195      2\n",
      "     7     15      8     41     10      6    324     11      3  26181    151\n",
      "     7      9      4    784     20   1283      2      1      1      1      1\n",
      "  1021    375   1140    731      6    489    811     13    455      2      1\n",
      "     5   1036      4     29      3    456    241      1      1      1      1\n",
      "    33     13     38    373    563     23    192      1      1      1      1\n",
      "     5     12   1610     14      3  16994     70  24348      2      1      1\n",
      "     7     12      4     11      3     73      2      1      1      1      1\n",
      "     7   8226      8   5300     21     47    108      4     72     47     82\n",
      "     5    273   3071      4   2196     11     23     15     14    194   1418\n",
      "     5     12      4     52      3    300      2      1      1      1      1\n",
      "     7     30      4     29      3     58      2      1      1      1      1\n",
      "     3   1812    566    116     16      6    692      1      1      1      1\n",
      "     5    961    960     20   1304      2      1      1      1      1      1\n",
      "     3     12   1610     14   1252      1      1      1      1      1      1\n",
      "     7     12      4     66      2      1      1      1      1      1      1\n",
      "     3     33     13  15583    673     82  29566      8   2546     39  12221\n",
      "     5   2244   1410    234     20     73     42      6    327    172      2\n",
      "   346     37      8     64   7939      2      1      1      1      1      1\n",
      "     5     38     25    330      3    931      2      1      1      1      1\n",
      "     5   1004    649     26      4    315      3   1320      2      1      1\n",
      "    18     56     86   1641     97     13     97   1019     19      3     72\n",
      "     7     38     12      4     31     45      3    494     13   2308      2\n",
      "\n",
      "Columns 11 to 14 \n",
      "     1      1      1      1\n",
      "     1      1      1      1\n",
      "     1      1      1      1\n",
      "     1      1      1      1\n",
      "     1      1      1      1\n",
      "     1      1      1      1\n",
      "     1      1      1      1\n",
      "     1      1      1      1\n",
      "     1      1      1      1\n",
      "     1      1      1      1\n",
      "     2      1      1      1\n",
      "     1      1      1      1\n",
      "     1      1      1      1\n",
      "     1      1      1      1\n",
      "     1      1      1      1\n",
      "     1      1      1      1\n",
      "     1      1      1      1\n",
      "    10    253      2      1\n",
      "    11      3    338    151\n",
      "     1      1      1      1\n",
      "     1      1      1      1\n",
      "     1      1      1      1\n",
      "     1      1      1      1\n",
      "     1      1      1      1\n",
      "     1      1      1      1\n",
      "    16      6    187      1\n",
      "     1      1      1      1\n",
      "     1      1      1      1\n",
      "     1      1      1      1\n",
      "     1      1      1      1\n",
      "  3503      2      1      1\n",
      "     1      1      1      1\n",
      "[torch.LongTensor of size 32x15]\n",
      "\n",
      "Variable containing:\n",
      "    0\n",
      "    1\n",
      "    1\n",
      "    1\n",
      "    2\n",
      "    0\n",
      "    0\n",
      "    0\n",
      "    1\n",
      "    1\n",
      "    1\n",
      "    0\n",
      "    1\n",
      "    1\n",
      "    2\n",
      "    2\n",
      "    1\n",
      "    2\n",
      "    1\n",
      "    1\n",
      "    0\n",
      "    1\n",
      "    2\n",
      "    0\n",
      "    1\n",
      "    2\n",
      "    0\n",
      "    0\n",
      "    1\n",
      "    1\n",
      "    2\n",
      "    1\n",
      "[torch.LongTensor of size 32x1]\n",
      "\n"
     ]
    }
   ],
   "source": [
    "batch = next(iter(train_iter))\n",
    "print(batch.sentence1)\n",
    "print(batch.sentence2)\n",
    "print(batch.labels)"
   ]
  },
  {
   "cell_type": "code",
   "execution_count": null,
   "metadata": {
    "collapsed": true
   },
   "outputs": [],
   "source": []
  }
 ],
 "metadata": {
  "kernelspec": {
   "display_name": "Python 3",
   "language": "python",
   "name": "python3"
  },
  "language_info": {
   "codemirror_mode": {
    "name": "ipython",
    "version": 3
   },
   "file_extension": ".py",
   "mimetype": "text/x-python",
   "name": "python",
   "nbconvert_exporter": "python",
   "pygments_lexer": "ipython3",
   "version": "3.6.2"
  }
 },
 "nbformat": 4,
 "nbformat_minor": 2
}
